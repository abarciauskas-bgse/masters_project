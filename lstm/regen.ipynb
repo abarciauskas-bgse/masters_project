{
 "cells": [
  {
   "cell_type": "code",
   "execution_count": 40,
   "metadata": {
    "collapsed": false
   },
   "outputs": [
    {
     "ename": "Exception",
     "evalue": "Layer weight shape (212, 140) not compatible with provided weight shape (156, 140)",
     "output_type": "error",
     "traceback": [
      "\u001b[1;31m---------------------------------------------------------------------------\u001b[0m",
      "\u001b[1;31mException\u001b[0m                                 Traceback (most recent call last)",
      "\u001b[1;32m<ipython-input-40-e32ae142dcc8>\u001b[0m in \u001b[0;36m<module>\u001b[1;34m()\u001b[0m\n\u001b[0;32m     35\u001b[0m \u001b[0mmodel\u001b[0m\u001b[1;33m.\u001b[0m\u001b[0madd\u001b[0m\u001b[1;33m(\u001b[0m\u001b[0mActivation\u001b[0m\u001b[1;33m(\u001b[0m\u001b[1;34m'softmax'\u001b[0m\u001b[1;33m)\u001b[0m\u001b[1;33m)\u001b[0m\u001b[1;33m\u001b[0m\u001b[0m\n\u001b[0;32m     36\u001b[0m \u001b[1;33m\u001b[0m\u001b[0m\n\u001b[1;32m---> 37\u001b[1;33m \u001b[0mmodel\u001b[0m\u001b[1;33m.\u001b[0m\u001b[0mload_weights\u001b[0m\u001b[1;33m(\u001b[0m\u001b[1;34m'../../f0b36dca58ujeztr1gi7.h5'\u001b[0m\u001b[1;33m)\u001b[0m\u001b[1;33m\u001b[0m\u001b[0m\n\u001b[0m\u001b[0;32m     38\u001b[0m \u001b[0mmodel\u001b[0m\u001b[1;33m.\u001b[0m\u001b[0mcompile\u001b[0m\u001b[1;33m(\u001b[0m\u001b[0mloss\u001b[0m\u001b[1;33m=\u001b[0m\u001b[1;34m'categorical_crossentropy'\u001b[0m\u001b[1;33m,\u001b[0m \u001b[0moptimizer\u001b[0m\u001b[1;33m=\u001b[0m\u001b[1;34m'adamax'\u001b[0m\u001b[1;33m)\u001b[0m\u001b[1;33m\u001b[0m\u001b[0m\n",
      "\u001b[1;32m/usr/local/lib/python2.7/dist-packages/keras/engine/topology.pyc\u001b[0m in \u001b[0;36mload_weights\u001b[1;34m(self, filepath)\u001b[0m\n\u001b[0;32m   2335\u001b[0m                 \u001b[0mg\u001b[0m \u001b[1;33m=\u001b[0m \u001b[0mf\u001b[0m\u001b[1;33m[\u001b[0m\u001b[1;34m'layer_{}'\u001b[0m\u001b[1;33m.\u001b[0m\u001b[0mformat\u001b[0m\u001b[1;33m(\u001b[0m\u001b[0mk\u001b[0m\u001b[1;33m)\u001b[0m\u001b[1;33m]\u001b[0m\u001b[1;33m\u001b[0m\u001b[0m\n\u001b[0;32m   2336\u001b[0m                 \u001b[0mweights\u001b[0m \u001b[1;33m=\u001b[0m \u001b[1;33m[\u001b[0m\u001b[0mg\u001b[0m\u001b[1;33m[\u001b[0m\u001b[1;34m'param_{}'\u001b[0m\u001b[1;33m.\u001b[0m\u001b[0mformat\u001b[0m\u001b[1;33m(\u001b[0m\u001b[0mp\u001b[0m\u001b[1;33m)\u001b[0m\u001b[1;33m]\u001b[0m \u001b[1;32mfor\u001b[0m \u001b[0mp\u001b[0m \u001b[1;32min\u001b[0m \u001b[0mrange\u001b[0m\u001b[1;33m(\u001b[0m\u001b[0mg\u001b[0m\u001b[1;33m.\u001b[0m\u001b[0mattrs\u001b[0m\u001b[1;33m[\u001b[0m\u001b[1;34m'nb_params'\u001b[0m\u001b[1;33m]\u001b[0m\u001b[1;33m)\u001b[0m\u001b[1;33m]\u001b[0m\u001b[1;33m\u001b[0m\u001b[0m\n\u001b[1;32m-> 2337\u001b[1;33m                 \u001b[0mflattened_layers\u001b[0m\u001b[1;33m[\u001b[0m\u001b[0mk\u001b[0m\u001b[1;33m]\u001b[0m\u001b[1;33m.\u001b[0m\u001b[0mset_weights\u001b[0m\u001b[1;33m(\u001b[0m\u001b[0mweights\u001b[0m\u001b[1;33m)\u001b[0m\u001b[1;33m\u001b[0m\u001b[0m\n\u001b[0m\u001b[0;32m   2338\u001b[0m         \u001b[1;32melse\u001b[0m\u001b[1;33m:\u001b[0m\u001b[1;33m\u001b[0m\u001b[0m\n\u001b[0;32m   2339\u001b[0m             \u001b[1;31m# new file format\u001b[0m\u001b[1;33m\u001b[0m\u001b[1;33m\u001b[0m\u001b[0m\n",
      "\u001b[1;32m/usr/local/lib/python2.7/dist-packages/keras/engine/topology.pyc\u001b[0m in \u001b[0;36mset_weights\u001b[1;34m(self, weights)\u001b[0m\n\u001b[0;32m    854\u001b[0m                                 \u001b[0mstr\u001b[0m\u001b[1;33m(\u001b[0m\u001b[0mpv\u001b[0m\u001b[1;33m.\u001b[0m\u001b[0mshape\u001b[0m\u001b[1;33m)\u001b[0m \u001b[1;33m+\u001b[0m\u001b[1;33m\u001b[0m\u001b[0m\n\u001b[0;32m    855\u001b[0m                                 \u001b[1;34m' not compatible with '\u001b[0m\u001b[1;33m\u001b[0m\u001b[0m\n\u001b[1;32m--> 856\u001b[1;33m                                 'provided weight shape ' + str(w.shape))\n\u001b[0m\u001b[0;32m    857\u001b[0m             \u001b[0mweight_value_tuples\u001b[0m\u001b[1;33m.\u001b[0m\u001b[0mappend\u001b[0m\u001b[1;33m(\u001b[0m\u001b[1;33m(\u001b[0m\u001b[0mp\u001b[0m\u001b[1;33m,\u001b[0m \u001b[0mw\u001b[0m\u001b[1;33m)\u001b[0m\u001b[1;33m)\u001b[0m\u001b[1;33m\u001b[0m\u001b[0m\n\u001b[0;32m    858\u001b[0m         \u001b[0mK\u001b[0m\u001b[1;33m.\u001b[0m\u001b[0mbatch_set_value\u001b[0m\u001b[1;33m(\u001b[0m\u001b[0mweight_value_tuples\u001b[0m\u001b[1;33m)\u001b[0m\u001b[1;33m\u001b[0m\u001b[0m\n",
      "\u001b[1;31mException\u001b[0m: Layer weight shape (212, 140) not compatible with provided weight shape (156, 140)"
     ]
    }
   ],
   "source": [
    "from __future__ import print_function\n",
    "from keras.models import Sequential\n",
    "from keras.layers.core import Dense, Activation, Dropout\n",
    "from keras.layers.recurrent import LSTM\n",
    "from keras.utils.data_utils import get_file\n",
    "import h5py\n",
    "import numpy as np\n",
    "execfile('midiutils.py')\n",
    "\n",
    "mod_layer = 2\n",
    "l1_size = 70*mod_layer\n",
    "l2_size = 60*mod_layer\n",
    "l6_size = 70*mod_layer\n",
    "maxlen = 16*8\n",
    "num_tracks = 6\n",
    "\n",
    "song = '../daft_punk-robot_rock.mid'\n",
    "# dynamic creation of ranges, and selection of tracks\n",
    "ranges, tracks = midi_analyze(song)\n",
    "ranges = ranges[0:num_tracks]\n",
    "notes = 2*sum([b-a+1 for a, b in ranges])\n",
    "\n",
    "model = Sequential()\n",
    "\n",
    "model.add(LSTM(l1_size, return_sequences=True, input_shape=( maxlen, notes )))\n",
    "model.add(Dropout(0.2))\n",
    "\n",
    "model.add(LSTM(l2_size, return_sequences=True))\n",
    "model.add(Dropout(0.2))\n",
    "\n",
    "model.add(LSTM(l6_size, return_sequences=False))\n",
    "model.add(Dropout(0.2))\n",
    "\n",
    "model.add(Dense( notes ))\n",
    "model.add(Activation('softmax'))\n",
    "\n",
    "model.load_weights('../../f0b36dca58ujeztr1gi7.h5')\n",
    "model.compile(loss='categorical_crossentropy', optimizer='adamax')"
   ]
  },
  {
   "cell_type": "code",
   "execution_count": 14,
   "metadata": {
    "collapsed": true
   },
   "outputs": [],
   "source": [
    "def sample(a, ranges, temperature = 1.0):\n",
    "    # helper function to sample an index from a probability array\n",
    "    sa = np.log(a) / temperature\n",
    "    #sa = np.exp(sa) / np.sum(np.exp(sa))\n",
    "\n",
    "    # sampling experiment\n",
    "    lowerNotes, upperNotes, span = md.split_tracks(ranges)\n",
    "    notes = sum(span)\n",
    "    offs = [0 for _ in range(len(lowerNotes)+1)]\n",
    "    ind = []\n",
    "    for i in range(len(span)) :\n",
    "        offs[i+1] = offs[i] + span[i]\n",
    "    b1 = np.array([]) # notes\n",
    "    b2 = np.array([]) # sustain\n",
    "    for i in range(len(offs)-1) :\n",
    "        pd1 = np.exp(sa[offs[i]:offs[i+1]])/(np.sum(np.exp(sa[offs[i]:offs[i+1]]))*10)\n",
    "        pd2 = np.exp(sa[notes+offs[i]:notes+offs[i+1]])/(np.sum(np.exp(sa[notes+offs[i]:notes+offs[i+1]])))\n",
    "        #pd1 = sa[offs[i]:offs[i+1]]\n",
    "        #pd2 = sa[notes+offs[i]:notes+offs[i+1]]\n",
    "        b1 = np.hstack((b1, np.random.binomial([1.]*len(pd1), pd1)))\n",
    "        b2 = np.hstack((b2, np.random.binomial([1.]*len(pd2), pd2)))\n",
    "    return np.hstack((b1,b2))"
   ]
  },
  {
   "cell_type": "code",
   "execution_count": 15,
   "metadata": {
    "collapsed": true
   },
   "outputs": [],
   "source": [
    "def generate_song(model, ranges, maxlen, path, seed):\n",
    "    print('Generate ====================')\n",
    "    notes = 2*sum([b-a+1 for a, b in ranges])\n",
    "    #seed = np.array(np.random.randint(2, size=(1, maxlen, notes)), dtype=bool)\n",
    "    for temperature in [ 0.5, 0.7, 1 ]:\n",
    "        for _ in range(maxlen):\n",
    "            preds = model.predict(seed, verbose=0)[0]\n",
    "            preds = sample(preds, ranges, temperature)\n",
    "            seed = np.array([np.vstack((seed[0][1:,:],preds))])\n",
    "    \n",
    "        onm = md.output_to_nm(seed[0])\n",
    "        s = string.lowercase+string.digits # name string options\n",
    "        song_name = ''.join(random.sample(s,20))\n",
    "\n",
    "        md.output_midi_poly_array(onm, ranges, path+'songs/'+song_name+'.mid')\n",
    "    return"
   ]
  },
  {
   "cell_type": "code",
   "execution_count": 37,
   "metadata": {
    "collapsed": false
   },
   "outputs": [
    {
     "name": "stdout",
     "output_type": "stream",
     "text": [
      "212\n",
      "156\n"
     ]
    }
   ],
   "source": [
    "maxlen = 16*8\t# time decimation\n",
    "#sc = 100\t# batch length\n",
    "\n",
    "lowerNotes, upperNotes, span = split_tracks(ranges)\n",
    "l = sum(span)\n",
    "\n",
    "x_in = nm_to_input(training_set)\n",
    "\n",
    "sc = int(np.floor(x_in.shape[0]/(maxlen+1)))\n",
    "x_in = x_in[0:sc*(maxlen+1),:]\n",
    "\n",
    "for _ in range(8):\n",
    "    x_in = np.vstack((x_in, x_in))\n",
    "\n",
    "x_in = np.reshape(x_in, (256*sc, maxlen+1, 2*l))\n",
    "x = x_in[:,:-1,:]\n",
    "y = x_in[:,-1,:]\n",
    "out_ranges = ranges\n",
    "\n",
    "path = '.'\n",
    "print(2*l)\n",
    "print(notes)\n",
    "#generate_song(model, out_ranges, maxlen, path, np.array([x[0,:,:]]))"
   ]
  }
 ],
 "metadata": {
  "kernelspec": {
   "display_name": "Python 2",
   "language": "python",
   "name": "python2"
  },
  "language_info": {
   "codemirror_mode": {
    "name": "ipython",
    "version": 2
   },
   "file_extension": ".py",
   "mimetype": "text/x-python",
   "name": "python",
   "nbconvert_exporter": "python",
   "pygments_lexer": "ipython2",
   "version": "2.7.6"
  }
 },
 "nbformat": 4,
 "nbformat_minor": 0
}
