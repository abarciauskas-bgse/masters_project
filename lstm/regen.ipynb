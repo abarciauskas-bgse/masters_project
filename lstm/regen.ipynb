{
 "cells": [
  {
   "cell_type": "code",
   "execution_count": 17,
   "metadata": {
    "collapsed": false
   },
   "outputs": [],
   "source": [
    "from __future__ import print_function\n",
    "from keras.models import Sequential\n",
    "from keras.layers.core import Dense, Activation, Dropout\n",
    "from keras.layers.recurrent import LSTM\n",
    "from keras.utils.data_utils import get_file\n",
    "\n",
    "execfile('midiutils.py')\n",
    "\n",
    "mod_layer = 2\n",
    "l1_size = 70*mod_layer\n",
    "l2_size = 60*mod_layer\n",
    "l6_size = 70*mod_layer\n",
    "maxlen = 25\n",
    "num_tracks = 6\n",
    "\n",
    "song = '../python_scripts/daft_punk-one_more_time.mid'\n",
    "# dynamic creation of ranges, and selection of tracks\n",
    "ranges, tracks = midi_analyze(song)\n",
    "ranges = ranges[0:num_tracks]\n",
    "notes = 2*sum([b-a+1 for a, b in ranges])\n",
    "\n",
    "model = Sequential()\n",
    "\n",
    "model.add(LSTM(l1_size, return_sequences=True, input_shape=( maxlen, notes )))\n",
    "model.add(Dropout(0.2))\n",
    "\n",
    "model.add(LSTM(l2_size, return_sequences=True))\n",
    "model.add(Dropout(0.2))\n",
    "\n",
    "model.add(LSTM(l6_size, return_sequences=False))\n",
    "model.add(Dropout(0.2))\n",
    "\n",
    "model.add(Dense( notes ))\n",
    "model.add(Activation('softmax'))\n",
    "\n",
    "model.compile(loss='categorical_crossentropy', optimizer='adamax')\n",
    "\n",
    "model.load_weights('my_model_weights.h5')"
   ]
  },
  {
   "cell_type": "code",
   "execution_count": null,
   "metadata": {
    "collapsed": true
   },
   "outputs": [],
   "source": []
  }
 ],
 "metadata": {
  "kernelspec": {
   "display_name": "Python 2",
   "language": "python",
   "name": "python2"
  },
  "language_info": {
   "codemirror_mode": {
    "name": "ipython",
    "version": 2
   },
   "file_extension": ".py",
   "mimetype": "text/x-python",
   "name": "python",
   "nbconvert_exporter": "python",
   "pygments_lexer": "ipython2",
   "version": "2.7.6"
  }
 },
 "nbformat": 4,
 "nbformat_minor": 0
}
