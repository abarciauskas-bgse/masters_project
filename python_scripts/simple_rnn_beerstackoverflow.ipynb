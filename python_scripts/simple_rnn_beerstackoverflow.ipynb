{
 "cells": [
  {
   "cell_type": "markdown",
   "metadata": {},
   "source": [
    "# Character-level RNN for beer.stackoverflow.com\n",
    "\n",
    "## How does an RNN work?\n",
    "\n",
    "**1. Gather and clean training data:**"
   ]
  },
  {
   "cell_type": "code",
   "execution_count": 3,
   "metadata": {
    "collapsed": false
   },
   "outputs": [
    {
     "name": "stdout",
     "output_type": "stream",
     "text": [
      "Time to parse text: 0.162177801132\n",
      "['I was offered a beer the other day that was reportedly made with citra hops. What are citra hops? Why should I care that my beer is made with them?', 'As far as we know, when did humans first brew beer, and where? Around when would you have been able to get your hands on something resembling a modern lager?']\n",
      "Total number of documents: 1694\n"
     ]
    }
   ],
   "source": [
    "from xml.etree import cElementTree as ET\n",
    "import sys\n",
    "from HTMLParser import HTMLParser\n",
    "import time\n",
    "\n",
    "# credit: http://stackoverflow.com/questions/753052/strip-html-from-strings-in-python\n",
    "class MLStripper(HTMLParser):\n",
    "    def __init__(self):\n",
    "        self.reset()\n",
    "        self.fed = []\n",
    "    def handle_data(self, d):\n",
    "        self.fed.append(d)\n",
    "    def get_data(self):\n",
    "        return ''.join(self.fed)\n",
    "\n",
    "def strip_tags(html):\n",
    "    s = MLStripper()\n",
    "    s.feed(html)\n",
    "    return s.get_data()\n",
    "\n",
    "posts = open('Posts.xml', 'r').read()\n",
    "\n",
    "posts[1:100]\n",
    "\n",
    "def remove_tags(text):\n",
    "    return ''.join(ET.fromstring(text).itertext())\n",
    "\n",
    "root = ET.fromstring(posts)\n",
    "documents = []\n",
    "t0 = time.time()\n",
    "for child in root.findall('row'):\n",
    "    text = None\n",
    "    child_text = child.get('Body').encode('utf-8').strip()\n",
    "    text = strip_tags(child_text)\n",
    "    # Remove line breaks so posts are grouped together\n",
    "    text = text.replace(\"\\n\",\"\")\n",
    "    documents.append(text)\n",
    "t1 = time.time()    \n",
    "\n",
    "print 'Time to parse text: ' + str(t1 - t0)\n",
    "print documents[0:2]\n",
    "print 'Total number of documents: ' + str(len(documents))"
   ]
  },
  {
   "cell_type": "markdown",
   "metadata": {},
   "source": [
    "**2. Create dictionaries mapping characters to integers and back again.**"
   ]
  },
  {
   "cell_type": "code",
   "execution_count": 4,
   "metadata": {
    "collapsed": false
   },
   "outputs": [
    {
     "name": "stdout",
     "output_type": "stream",
     "text": [
      "I was offered a beer the other day that was reportedly made with citra hops. What are citra hops? Why should I care that my beer is made with them?\n",
      "\n",
      "\n",
      "As far as we know, when did humans first brew beer, and where? Around when would you have been able to get your hands on something resembling a modern lager?\n",
      "\n",
      "\n",
      "How is low/no alcohol beer made? I'm assuming that the beer is made normally and the alcohol is then removed, is it any more than just boiling it off? I've noticed that no/low alcohol beers' taste improved hugely a few years ago, is this due to a new technique?\n",
      "\n",
      "\n",
      "Citra is a registered trademark since 2007. Citra Brand hops have fairly high alpha acids and total oil contents with a low percentage of cohumulone content and  imparts interesting citrus and tropical fruit characters to beer.For more information, you can read the Wikipedia article on the Citra brand.\n",
      "\n",
      "\n",
      "In general, what's the best way to work out the temperature at which to serve a particular beer? Room temperature? Cold?\n",
      "data has 1030478 characters, 146 unique.\n"
     ]
    }
   ],
   "source": [
    "all_posts = (\"\\n\\n\\n\").join(documents)\n",
    "\n",
    "print all_posts[0:1000]\n",
    "\n",
    "data = all_posts\n",
    "chars = list(set(data))\n",
    "data_size, vocab_size = len(data), len(chars)\n",
    "print 'data has %d characters, %d unique.' % (data_size, vocab_size)\n",
    "char_to_ix = { ch:i for i,ch in enumerate(chars) }\n",
    "ix_to_char = { i:ch for i,ch in enumerate(chars) }"
   ]
  },
  {
   "cell_type": "markdown",
   "metadata": {},
   "source": [
    "**3. Train**\n",
    "\n",
    "1. Initialize randomized weights for each neuron\n",
    "2. Backpropagate a loss for those weights, using a target class of the next character\n",
    "3. Update weights via Adagrad"
   ]
  },
  {
   "cell_type": "code",
   "execution_count": 5,
   "metadata": {
    "collapsed": false,
    "scrolled": false
   },
   "outputs": [
    {
     "name": "stdout",
     "output_type": "stream",
     "text": [
      "Training for 1000 iterations lasted for 1.63735580444 seconds.\n"
     ]
    }
   ],
   "source": [
    "execfile('simple_rnn.py')\n",
    "import time\n",
    "\n",
    "max_iters = 1000\n",
    "start = time.time()\n",
    "results = train(data, vocab_size, max_iters)\n",
    "losses = results['losses']\n",
    "h = results['hidden_state']\n",
    "end = time.time()\n",
    "print \"Training for \" + str(max_iters) + \" iterations lasted for \" + str(end - start) + \" seconds.\""
   ]
  },
  {
   "cell_type": "code",
   "execution_count": 6,
   "metadata": {
    "collapsed": false
   },
   "outputs": [
    {
     "data": {
      "image/png": "[encoded data removed]",
      "text/plain": [
       "<matplotlib.figure.Figure at 0x104596110>"
      ]
     },
     "metadata": {},
     "output_type": "display_data"
    }
   ],
   "source": [
    "%matplotlib inline\n",
    "import matplotlib.pyplot as plt\n",
    "\n",
    "plt.plot(losses)\n",
    "plt.ylabel('loss')\n",
    "plt.xlabel('iterations')\n",
    "plt.show()"
   ]
  },
  {
   "cell_type": "code",
   "execution_count": 7,
   "metadata": {
    "collapsed": false
   },
   "outputs": [
    {
     "data": {
      "text/plain": [
       "u' inr monn ar, wicleens inr.rG9:ow tn be the te.n dos. con y  ferepe M-, iranbaf? _herole Iye boin I ber ou matlyow b? Rit swout ittathe wot., qheoned iwhe oc, roe sode Tha bee hor ithltu/d presreebist uy, b aur outtted, ioif usiconriser doy Isi matn thoe tke datge ufink sounive choe cfor yala do tuach or mas i\\' on mtal i coake. mol a agre Cor an botsee Stol maultoc per woumte bededs Hud, puwitle.t be avid at he if ar ifupen.ere  2udlan bad bener to iwour, fhan wolimtali Sp nmpee atl, thcermr og o. airmes hae be k.\\nBhened, ma ciAve ganf whossmy polced oanst mat I to, asdire tho ma bor wfe inon ohe pou wacey\\nfa gocils toon arlis )of. dog\"rhets, is lvit you s mow whe you be , wont\" woittocometimvensroa Iredlo go?r ifle bua. yrev, ar thrily on b, tes s)exs menlelcinft angos meres gole toratlp chisaur ty sou vow is wod thara \"5ye conos whess b. Ioved istis: t\" f lcofs 2Btot thou sc pereost tha thos that acn the gheexp peello ude difusy \"us. yam son syiantud ccoiomet,s, the a belalaer. nh w'"
      ]
     },
     "execution_count": 7,
     "metadata": {},
     "output_type": "execute_result"
    }
   ],
   "source": [
    "nsamples = 1000\n",
    "bidx = char_to_ix['l']\n",
    "samples = sample(h, bidx, nsamples)\n",
    "#unicode('\\x80abc', errors='ignore')\n",
    "(\"\").join([unicode(ix_to_char[samples[i]], errors = 'ignore') for i in range(nsamples)])"
   ]
  },
  {
   "cell_type": "code",
   "execution_count": null,
   "metadata": {
    "collapsed": true
   },
   "outputs": [],
   "source": []
  }
 ],
 "metadata": {
  "kernelspec": {
   "display_name": "Python 2",
   "language": "python",
   "name": "python2"
  },
  "language_info": {
   "codemirror_mode": {
    "name": "ipython",
    "version": 2
   },
   "file_extension": ".py",
   "mimetype": "text/x-python",
   "name": "python",
   "nbconvert_exporter": "python",
   "pygments_lexer": "ipython2",
   "version": "2.7.10"
  }
 },
 "nbformat": 4,
 "nbformat_minor": 0
}
