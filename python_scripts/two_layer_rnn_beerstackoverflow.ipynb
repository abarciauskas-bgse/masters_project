{
 "cells": [
  {
   "cell_type": "markdown",
   "metadata": {},
   "source": [
    "# Character-level RNN for beer.stackoverflow.com\n",
    "\n",
    "## How does an RNN work?\n",
    "\n",
    "**1. Gather and clean training data:**"
   ]
  },
  {
   "cell_type": "code",
   "execution_count": 1,
   "metadata": {
    "collapsed": false
   },
   "outputs": [
    {
     "name": "stdout",
     "output_type": "stream",
     "text": [
      "Time to parse text: 0.173269987106\n",
      "['I was offered a beer the other day that was reportedly made with citra hops. What are citra hops? Why should I care that my beer is made with them?', 'As far as we know, when did humans first brew beer, and where? Around when would you have been able to get your hands on something resembling a modern lager?']\n",
      "Total number of documents: 1694\n"
     ]
    }
   ],
   "source": [
    "from xml.etree import cElementTree as ET\n",
    "import sys\n",
    "from HTMLParser import HTMLParser\n",
    "import time\n",
    "\n",
    "# credit: http://stackoverflow.com/questions/753052/strip-html-from-strings-in-python\n",
    "class MLStripper(HTMLParser):\n",
    "    def __init__(self):\n",
    "        self.reset()\n",
    "        self.fed = []\n",
    "    def handle_data(self, d):\n",
    "        self.fed.append(d)\n",
    "    def get_data(self):\n",
    "        return ''.join(self.fed)\n",
    "\n",
    "def strip_tags(html):\n",
    "    s = MLStripper()\n",
    "    s.feed(html)\n",
    "    return s.get_data()\n",
    "\n",
    "posts = open('Posts.xml', 'r').read()\n",
    "\n",
    "posts[1:100]\n",
    "\n",
    "def remove_tags(text):\n",
    "    return ''.join(ET.fromstring(text).itertext())\n",
    "\n",
    "root = ET.fromstring(posts)\n",
    "documents = []\n",
    "t0 = time.time()\n",
    "for child in root.findall('row'):\n",
    "    text = None\n",
    "    child_text = child.get('Body').encode('utf-8').strip()\n",
    "    text = strip_tags(child_text)\n",
    "    # Remove line breaks so posts are grouped together\n",
    "    text = text.replace(\"\\n\",\"\")\n",
    "    documents.append(text)\n",
    "t1 = time.time()    \n",
    "\n",
    "print 'Time to parse text: ' + str(t1 - t0)\n",
    "print documents[0:2]\n",
    "print 'Total number of documents: ' + str(len(documents))"
   ]
  },
  {
   "cell_type": "markdown",
   "metadata": {},
   "source": [
    "**2. Create dictionaries mapping characters to integers and back again.**"
   ]
  },
  {
   "cell_type": "code",
   "execution_count": 2,
   "metadata": {
    "collapsed": false
   },
   "outputs": [
    {
     "name": "stdout",
     "output_type": "stream",
     "text": [
      "I was offered a beer the other day that was reportedly made with citra hops. What are citra hops? Why should I care that my beer is made with them?\n",
      "\n",
      "As far as we know, when did humans first brew beer, and where? Around when would you have been able to get your hands on something resembling a modern lager?\n",
      "\n",
      "How is low/no alcohol beer made? I'm assuming that the beer is made normally and the alcohol is then removed, is it any more than just boiling it off? I've noticed that no/low alcohol beers' taste improved hugely a few years ago, is this due to a new technique?\n",
      "\n",
      "Citra is a registered trademark since 2007. Citra Brand hops have fairly high alpha acids and total oil contents with a low percentage of cohumulone content and  imparts interesting citrus and tropical fruit characters to beer.For more information, you can read the Wikipedia article on the Citra brand.\n",
      "\n",
      "In general, what's the best way to work out the temperature at which to serve a particular beer? Room temperature? Cold? Sup\n",
      "data has 2272 characters, 56 unique.\n"
     ]
    }
   ],
   "source": [
    "all_posts = (\"\\n\\n\").join(documents[0:10])\n",
    "\n",
    "print all_posts[0:1000]\n",
    "\n",
    "data = all_posts\n",
    "chars = list(set(data))\n",
    "data_size, vocab_size = len(data), len(chars)\n",
    "print 'data has %d characters, %d unique.' % (data_size, vocab_size)\n",
    "char_to_ix = { ch:i for i,ch in enumerate(chars) }\n",
    "ix_to_char = { i:ch for i,ch in enumerate(chars) }"
   ]
  },
  {
   "cell_type": "markdown",
   "metadata": {},
   "source": [
    "**3. Train**\n",
    "\n",
    "1. Initialize randomized weights for each neuron\n",
    "2. Backpropagate a loss for those weights, using a target class of the next character\n",
    "3. Update weights via Adagrad"
   ]
  },
  {
   "cell_type": "code",
   "execution_count": 3,
   "metadata": {
    "collapsed": false,
    "scrolled": false
   },
   "outputs": [
    {
     "name": "stdout",
     "output_type": "stream",
     "text": [
      "Processing batch size 10\n",
      "1000\n",
      "Training for 1000 iterations lasted for 2.55059480667 seconds.\n",
      "\n",
      "\n",
      "Processing batch size 20\n",
      "1000\n",
      "Training for 1000 iterations lasted for 3.83959889412 seconds.\n",
      "\n",
      "\n",
      "Processing batch size 30\n",
      "1000\n",
      "Training for 1000 iterations lasted for 5.68618702888 seconds.\n",
      "\n",
      "\n",
      "Processing batch size 40\n",
      "1000\n",
      "Training for 1000 iterations lasted for 7.539716959 seconds.\n",
      "\n",
      "\n",
      "Processing batch size 50\n",
      "1000\n",
      "Training for 1000 iterations lasted for 8.97215795517 seconds.\n",
      "\n",
      "\n"
     ]
    }
   ],
   "source": [
    "execfile('two_rnn.py')\n",
    "import time\n",
    "\n",
    "max_iters = 1000\n",
    "batch_sizes = [10,20,30,40,50]\n",
    "losses_dict = {}\n",
    "for bs in batch_sizes:\n",
    "    start = time.time()\n",
    "    print \"Processing batch size \" + str(bs)\n",
    "    results = train(data, vocab_size, max_iters, bs)\n",
    "    print len(results['losses'])\n",
    "    losses_dict[bs] = results['losses']\n",
    "    end = time.time()\n",
    "    print \"Training for \" + str(max_iters) + \" iterations lasted for \" + str(end - start) + \" seconds.\"\n",
    "    print(\"\\n\")\n",
    "\n",
    "h0 = results['h0']\n",
    "h1 = results['h1']"
   ]
  },
  {
   "cell_type": "code",
   "execution_count": 4,
   "metadata": {
    "collapsed": false
   },
   "outputs": [
    {
     "data": {
      "image/png": "[encoded data removed]",
      "text/plain": [
       "<matplotlib.figure.Figure at 0x105308450>"
      ]
     },
     "metadata": {},
     "output_type": "display_data"
    }
   ],
   "source": [
    "%matplotlib inline\n",
    "import matplotlib.pyplot as plt\n",
    "\n",
    "x = np.arange(max_iters)\n",
    "\n",
    "for bs in batch_sizes:\n",
    "    plt.plot(x, losses_dict[bs])\n",
    "    \n",
    "legend_items = [str(bs) for bs in batch_sizes]\n",
    "\n",
    "plt.legend(legend_items, loc='upper left')\n",
    "plt.show()\n"
   ]
  },
  {
   "cell_type": "code",
   "execution_count": null,
   "metadata": {
    "collapsed": false
   },
   "outputs": [],
   "source": [
    "execfile('two_rnn.py')\n",
    "import time\n",
    "\n",
    "max_iters = 50000\n",
    "bs = 25\n",
    "\n",
    "start = time.time()\n",
    "results = train(data, vocab_size, max_iters, bs)\n",
    "losses = results['losses']\n",
    "end = time.time()\n",
    "print \"Training for \" + str(max_iters) + \" iterations lasted for \" + str(end - start) + \" seconds.\"\n",
    "print(\"\\n\")\n",
    "\n",
    "h0 = results['h0']\n",
    "h1 = results['h1']\n",
    "len(h0)"
   ]
  },
  {
   "cell_type": "code",
   "execution_count": 28,
   "metadata": {
    "collapsed": false
   },
   "outputs": [
    {
     "data": {
      "image/png": "[encoded data removed]",
      "text/plain": [
       "<matplotlib.figure.Figure at 0x1072e5490>"
      ]
     },
     "metadata": {},
     "output_type": "display_data"
    }
   ],
   "source": [
    "plt.plot(losses)\n",
    "plt.ylabel('loss')\n",
    "plt.xlabel('iterations')\n",
    "plt.show()"
   ]
  },
  {
   "cell_type": "code",
   "execution_count": 25,
   "metadata": {
    "collapsed": false
   },
   "outputs": [
    {
     "data": {
      "text/plain": [
       "u\". ofarfzerera/wFr aracdtdaDwad adwewhadtooSodFtb\\nwd!,dawoaddagatwzoarvfdwVrerafrredoosroeMrarwwrwdfadardawraDoesoblhwa a radbwarwwotbdaualwaa debrfwweeoaareerbdtb2wea aa arRorar,afwgaraordoCwwbaewadtraaebrwabderaAzkedara aefdrra awbajdawadfataqwawerbefawdfrawtwa araw Wefdyadtafra!dddakdewor?HbyWaeraeAtawaerr erraITtadaap(eFA .w arararererwbraMereoawh afrd w'arHoa dafwdoaaoob)arpdwworarbarrrPradarbBefaf: brarer a/ewrwrrarrror waadoraWafdfaad aoer aarawarwor a\\nfRraPaoa aadahbra/aafrddarddfaeraadwaarara a awa?b aerawderrpsarwaaD aaertafd arafrwrfrraewbwbrvfya,rfafwoaIootwpwdradadrdeae fradaabd)Weatw\\narraraorozararr aa/rtraMra abraBrdeeQkfararirebo aeraredroa0rwWaQarafYrafabbzvwsoa0ork d,er?ow whd'daereraDrewely a\\nhoddre adaorPT'oabre awydrerwadddaraorBTdarawaDwkedewfraw aaoaerroaerYBjVDf(adraefawwraWwaaffdafwd:dafderabado?oboraewbrtwnFrdab aeraa(wao:dama afdfw aerbrr a)ertdawt:dade orerartbddodaq arerboda)wafwrtowfddawCwawkbraadarwraaoaaAooraaQddtTfradegBgRtfbaerabfowtarwo abwe a:ozrworre\""
      ]
     },
     "execution_count": 25,
     "metadata": {},
     "output_type": "execute_result"
    }
   ],
   "source": [
    "nsamples = 1000\n",
    "bidx = char_to_ix['I']\n",
    "samples = sample(h0, h1, bidx, nsamples)\n",
    "#unicode('\\x80abc', errors='ignore')\n",
    "(\"\").join([unicode(ix_to_char[samples[i]], errors = 'ignore') for i in range(nsamples)])"
   ]
  },
  {
   "cell_type": "code",
   "execution_count": null,
   "metadata": {
    "collapsed": true
   },
   "outputs": [],
   "source": []
  }
 ],
 "metadata": {
  "kernelspec": {
   "display_name": "Python 2",
   "language": "python",
   "name": "python2"
  },
  "language_info": {
   "codemirror_mode": {
    "name": "ipython",
    "version": 2
   },
   "file_extension": ".py",
   "mimetype": "text/x-python",
   "name": "python",
   "nbconvert_exporter": "python",
   "pygments_lexer": "ipython2",
   "version": "2.7.10"
  }
 },
 "nbformat": 4,
 "nbformat_minor": 0
}
