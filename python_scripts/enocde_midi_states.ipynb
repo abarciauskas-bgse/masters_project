{
 "cells": [
  {
   "cell_type": "code",
   "execution_count": 6,
   "metadata": {
    "collapsed": false
   },
   "outputs": [
    {
     "data": {
      "text/plain": [
       "2401"
      ]
     },
     "execution_count": 6,
     "metadata": {},
     "output_type": "execute_result"
    }
   ],
   "source": [
    "import numpy as np\n",
    "execfile('midi_to_state.py')\n",
    "daft_state = midiToNoteStateMatrix('daft_punk-one_more_time.mid')\n",
    "len(daft_state)"
   ]
  },
  {
   "cell_type": "code",
   "execution_count": 2,
   "metadata": {
    "collapsed": false
   },
   "outputs": [
    {
     "name": "stdout",
     "output_type": "stream",
     "text": [
      "381\n",
      "381\n"
     ]
    }
   ],
   "source": [
    "def encode_midi_states(state_mat):\n",
    "    chord_to_idx = {}\n",
    "    idx_to_chord = {}\n",
    "    for sixteenth_note in state_mat:\n",
    "        notes_only = [note[0] for note in sixteenth_note]\n",
    "        note_idcs_set = tuple([i for i, x in enumerate(notes_only) if x == 1])\n",
    "        if len(note_idcs_set) == 0: note_idcs_set = (None)\n",
    "        if not note_idcs_set in chord_to_idx.keys():\n",
    "            new_idx = len(chord_to_idx) + 1\n",
    "            chord_to_idx[note_idcs_set] = new_idx\n",
    "            idx_to_chord[new_idx] = note_idcs_set\n",
    "        else:\n",
    "            note_set_idx = chord_to_idx[note_idcs_set]\n",
    "    return [chord_to_idx, idx_to_chord]\n",
    "\n",
    "results = encode_midi_states(daft_state)\n",
    "print (len(results[0]))\n",
    "print (len(results[1]))\n",
    "chord_to_idx = results[0]\n",
    "idx_to_chord = results[1]"
   ]
  },
  {
   "cell_type": "code",
   "execution_count": 3,
   "metadata": {
    "collapsed": false
   },
   "outputs": [
    {
     "name": "stdout",
     "output_type": "stream",
     "text": [
      "301\n"
     ]
    }
   ],
   "source": [
    "import random\n",
    "randnum = random.sample(range(len(results[0])),1)[0]\n",
    "print randnum\n",
    "assert(results[0][results[1][randnum]] == randnum)"
   ]
  },
  {
   "cell_type": "code",
   "execution_count": 5,
   "metadata": {
    "collapsed": false
   },
   "outputs": [
    {
     "data": {
      "text/plain": [
       "2402"
      ]
     },
     "execution_count": 5,
     "metadata": {},
     "output_type": "execute_result"
    }
   ],
   "source": [
    "# now the set of chords is a library of possible classes\n",
    "# return a num_notes x len_chord_set\n",
    "def encode_song(midi_states, chord_to_idx):\n",
    "    song_encoded = np.zeros((len(midi_states)+1, len(chord_to_idx)+1))\n",
    "    for index in range(len(midi_states)):\n",
    "        notes_only = [note[0] for note in midi_states[index]]\n",
    "        note_idcs_set = tuple([i for i, x in enumerate(notes_only) if x == 1])\n",
    "        if len(note_idcs_set) == 0: note_idcs_set = (None)\n",
    "        library_idx = chord_to_idx[note_idcs_set]\n",
    "        song_encoded.itemset((index,library_idx), 1)\n",
    "    return song_encoded\n",
    "\n",
    "encoded_song = encode_song(daft_state, results[0])\n",
    "len(encoded_song)"
   ]
  },
  {
   "cell_type": "code",
   "execution_count": 7,
   "metadata": {
    "collapsed": false
   },
   "outputs": [
    {
     "name": "stdout",
     "output_type": "stream",
     "text": [
      "2241\n"
     ]
    }
   ],
   "source": [
    "randnum = random.sample(range(len(encoded_song)),1)[0]\n",
    "print randnum\n",
    "assert(sum(encoded_song[randnum]) == 1)"
   ]
  },
  {
   "cell_type": "code",
   "execution_count": 20,
   "metadata": {
    "collapsed": false
   },
   "outputs": [
    {
     "name": "stdout",
     "output_type": "stream",
     "text": [
      "(788, 40, 382)\n",
      "(788, 382)\n",
      "1.0\n"
     ]
    }
   ],
   "source": [
    "chord_to_idx = results[0]\n",
    "idx_to_chord = results[1]\n",
    "\n",
    "maxlen = 40\n",
    "step = 3\n",
    "chunks = []\n",
    "next_chords = []\n",
    "for i in range(0, len(encoded_song) - maxlen, step):\n",
    "    chunks.append(encoded_song[i: i + maxlen])\n",
    "    next_chords.append(encoded_song[i + maxlen])\n",
    "\n",
    "# len(chunks) should == len(daft_state)/step\n",
    "assert(len(chunks) == len(next_chords))\n",
    "\n",
    "X = np.array(chunks)\n",
    "y = np.array(next_chords)\n",
    "print(X.shape)\n",
    "print(y.shape)\n",
    "print(sum(y[0]))"
   ]
  },
  {
   "cell_type": "code",
   "execution_count": 31,
   "metadata": {
    "collapsed": false
   },
   "outputs": [
    {
     "name": "stdout",
     "output_type": "stream",
     "text": [
      "Build model...\n"
     ]
    }
   ],
   "source": [
    "from keras.models import Sequential\n",
    "from keras.layers import Dense, Activation, Dropout\n",
    "from keras.layers import LSTM\n",
    "\n",
    "# build the model: 2 stacked LSTM\n",
    "print('Build model...')\n",
    "model = Sequential()\n",
    "model.add(LSTM(512, return_sequences=True, input_shape=(maxlen, len(chord_to_idx)+1)))\n",
    "model.add(Dropout(0.2))\n",
    "model.add(LSTM(512, return_sequences=False))\n",
    "model.add(Dropout(0.2))\n",
    "model.add(Dense(len(chord_to_idx)+1))\n",
    "model.add(Activation('softmax'))\n",
    "\n",
    "model.compile(loss='categorical_crossentropy', optimizer='rmsprop', metrics=['accuracy'])"
   ]
  },
  {
   "cell_type": "code",
   "execution_count": 33,
   "metadata": {
    "collapsed": false
   },
   "outputs": [
    {
     "name": "stdout",
     "output_type": "stream",
     "text": [
      "Epoch 1/10\n",
      "788/788 [==============================] - 2s - loss: 5.0600 - acc: 0.0660     \n",
      "Epoch 2/10\n",
      "788/788 [==============================] - 2s - loss: 4.6953 - acc: 0.1091     \n",
      "Epoch 3/10\n",
      "788/788 [==============================] - 2s - loss: 4.7714 - acc: 0.0774     \n",
      "Epoch 4/10\n",
      "788/788 [==============================] - 2s - loss: 4.5048 - acc: 0.1256     \n",
      "Epoch 5/10\n",
      "788/788 [==============================] - 2s - loss: 4.6337 - acc: 0.1168     \n",
      "Epoch 6/10\n",
      "788/788 [==============================] - 2s - loss: 4.4858 - acc: 0.1193     \n",
      "Epoch 7/10\n",
      "788/788 [==============================] - 2s - loss: 4.4890 - acc: 0.1053     \n",
      "Epoch 8/10\n",
      "788/788 [==============================] - 2s - loss: 4.2899 - acc: 0.1320     \n",
      "Epoch 9/10\n",
      "788/788 [==============================] - 2s - loss: 4.1255 - acc: 0.1320     \n",
      "Epoch 10/10\n",
      "788/788 [==============================] - 2s - loss: 4.1638 - acc: 0.1409     \n"
     ]
    },
    {
     "data": {
      "text/plain": [
       "<keras.callbacks.History at 0x7f56b1ad8990>"
      ]
     },
     "execution_count": 33,
     "metadata": {},
     "output_type": "execute_result"
    }
   ],
   "source": [
    "model.fit(X, y, batch_size=128, nb_epoch=10)"
   ]
  }
 ],
 "metadata": {
  "kernelspec": {
   "display_name": "Python 2",
   "language": "python",
   "name": "python2"
  },
  "language_info": {
   "codemirror_mode": {
    "name": "ipython",
    "version": 2
   },
   "file_extension": ".py",
   "mimetype": "text/x-python",
   "name": "python",
   "nbconvert_exporter": "python",
   "pygments_lexer": "ipython2",
   "version": "2.7.6"
  }
 },
 "nbformat": 4,
 "nbformat_minor": 0
}
