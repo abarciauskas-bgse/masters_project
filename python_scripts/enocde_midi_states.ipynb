{
 "cells": [
  {
   "cell_type": "code",
   "execution_count": 1,
   "metadata": {
    "collapsed": true
   },
   "outputs": [],
   "source": [
    "import numpy as np\n",
    "execfile('midi_to_state.py')\n",
    "daft_state = midiToNoteStateMatrix('daft_punk-one_more_time.mid')\n"
   ]
  },
  {
   "cell_type": "code",
   "execution_count": 47,
   "metadata": {
    "collapsed": false
   },
   "outputs": [
    {
     "name": "stdout",
     "output_type": "stream",
     "text": [
      "381\n",
      "381\n"
     ]
    }
   ],
   "source": [
    "def encode_midi_states(state_mat):\n",
    "    chord_to_idx = {}\n",
    "    idx_to_chord = {}\n",
    "    for sixteenth_note in state_mat:\n",
    "        notes_only = [note[0] for note in sixteenth_note]\n",
    "        note_idcs_set = tuple([i for i, x in enumerate(notes_only) if x == 1])\n",
    "        if len(note_idcs_set) == 0: note_idcs_set = (None)\n",
    "        if not note_idcs_set in chord_to_idx.keys():\n",
    "            new_idx = len(chord_to_idx) + 1\n",
    "            chord_to_idx[note_idcs_set] = new_idx\n",
    "            idx_to_chord[new_idx] = note_idcs_set\n",
    "        else:\n",
    "            note_set_idx = chord_to_idx[note_idcs_set]\n",
    "    return [chord_to_idx, idx_to_chord]\n",
    "\n",
    "results = encode_midi_states(daft_state)\n",
    "print (len(results[0]))\n",
    "print (len(results[1]))"
   ]
  },
  {
   "cell_type": "code",
   "execution_count": 48,
   "metadata": {
    "collapsed": false
   },
   "outputs": [
    {
     "name": "stdout",
     "output_type": "stream",
     "text": [
      "315\n"
     ]
    }
   ],
   "source": [
    "import random\n",
    "randnum = random.sample(range(len(results[0])),1)[0]\n",
    "print randnum\n",
    "assert(results[0][results[1][randnum]] == randnum)"
   ]
  },
  {
   "cell_type": "code",
   "execution_count": 51,
   "metadata": {
    "collapsed": false
   },
   "outputs": [],
   "source": [
    "# now the set of chords is a library of possible classes\n",
    "# return a num_notes x len_chord_set\n",
    "def encode_song(midi_states, chord_to_idx):\n",
    "    song_encoded = np.zeros((len(midi_states)+1, len(chord_to_idx)+1))\n",
    "    for index in range(len(midi_states)):\n",
    "        notes_only = [note[0] for note in midi_states[index]]\n",
    "        note_idcs_set = tuple([i for i, x in enumerate(notes_only) if x == 1])\n",
    "        if len(note_idcs_set) == 0: note_idcs_set = (None)\n",
    "        library_idx = chord_to_idx[note_idcs_set]\n",
    "        song_encoded.itemset((index,library_idx), 1)\n",
    "    return song_encoded\n",
    "\n",
    "encoded_song = encode_song(daft_state, results[0])\n",
    "    "
   ]
  },
  {
   "cell_type": "code",
   "execution_count": 54,
   "metadata": {
    "collapsed": false
   },
   "outputs": [
    {
     "name": "stdout",
     "output_type": "stream",
     "text": [
      "543\n"
     ]
    }
   ],
   "source": [
    "randnum = random.sample(range(len(encoded_song)),1)[0]\n",
    "print randnum\n",
    "assert(sum(encoded_song[randnum]) == 1)"
   ]
  },
  {
   "cell_type": "code",
   "execution_count": null,
   "metadata": {
    "collapsed": true
   },
   "outputs": [],
   "source": []
  }
 ],
 "metadata": {
  "kernelspec": {
   "display_name": "Python 2",
   "language": "python",
   "name": "python2"
  },
  "language_info": {
   "codemirror_mode": {
    "name": "ipython",
    "version": 2
   },
   "file_extension": ".py",
   "mimetype": "text/x-python",
   "name": "python",
   "nbconvert_exporter": "python",
   "pygments_lexer": "ipython2",
   "version": "2.7.11"
  }
 },
 "nbformat": 4,
 "nbformat_minor": 0
}
