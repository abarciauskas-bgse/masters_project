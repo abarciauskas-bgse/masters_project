{
 "cells": [
  {
   "cell_type": "code",
   "execution_count": 3,
   "metadata": {
    "collapsed": false
   },
   "outputs": [
    {
     "name": "stdout",
     "output_type": "stream",
     "text": [
      "Number of discretized 16th notes: 2401\n",
      "Number of possible notes: 78\n",
      "Number of note features: 2\n",
      "Number of unique chords: [0 1]\n"
     ]
    }
   ],
   "source": [
    "import numpy as np\n",
    "execfile('midi_to_state.py')\n",
    "daft_state = midiToNoteStateMatrix('daft_punk-one_more_time.mid')\n",
    "\n",
    "print \"Number of discretized 16th notes: \" + str(len(daft_state))\n",
    "\n",
    "# Number of distinct note types - notes classes\n",
    "# Although more than one note may be used\n",
    "num_classes = len(daft_state[0])\n",
    "print \"Number of possible notes: \" + str(num_classes)\n",
    "\n",
    "print \"Number of note features: \" + str(len(daft_state[0][0]))\n",
    "print \"Number of unique chords: \" + str(np.unique(daft_state))"
   ]
  },
  {
   "cell_type": "code",
   "execution_count": 2,
   "metadata": {
    "collapsed": false
   },
   "outputs": [
    {
     "data": {
      "text/plain": [
       "[0, 0, 0, 0, 0, 0, 0, 0, 0, 0, 0, 0, 0, 0, 1, 0, 0, 0, 1, 0]"
      ]
     },
     "execution_count": 2,
     "metadata": {},
     "output_type": "execute_result"
    }
   ],
   "source": [
    "## FIXME: Using only notes, not sure yet how to handle if note is pressed\n",
    "daft_state_simplified = []\n",
    "for expanded_note in daft_state:\n",
    "    just_notes = [note_class[0] for note_class in expanded_note]\n",
    "    daft_state_simplified.append(just_notes)\n",
    "daft_state_simplified[100][0:20]"
   ]
  },
  {
   "cell_type": "code",
   "execution_count": 11,
   "metadata": {
    "collapsed": false
   },
   "outputs": [
    {
     "name": "stdout",
     "output_type": "stream",
     "text": [
      "here\n"
     ]
    }
   ],
   "source": [
    "execfile('two_rnn_midi.py')\n",
    "max_iters = 1000\n",
    "results = train(daft_state_simplified[0:100], num_classes, max_iters, 25, False, True)"
   ]
  },
  {
   "cell_type": "code",
   "execution_count": 12,
   "metadata": {
    "collapsed": false
   },
   "outputs": [
    {
     "data": {
      "image/png": "[encoded data removed]",
      "text/plain": [
       "<matplotlib.figure.Figure at 0x10545a650>"
      ]
     },
     "metadata": {},
     "output_type": "display_data"
    }
   ],
   "source": [
    "%matplotlib inline\n",
    "import matplotlib.pyplot as plt\n",
    "\n",
    "plt.plot(results['losses'])\n",
    "plt.ylabel('loss')\n",
    "plt.xlabel('iterations')\n",
    "plt.show()"
   ]
  },
  {
   "cell_type": "code",
   "execution_count": null,
   "metadata": {
    "collapsed": true
   },
   "outputs": [],
   "source": []
  }
 ],
 "metadata": {
  "kernelspec": {
   "display_name": "Python 2",
   "language": "python",
   "name": "python2"
  },
  "language_info": {
   "codemirror_mode": {
    "name": "ipython",
    "version": 2
   },
   "file_extension": ".py",
   "mimetype": "text/x-python",
   "name": "python",
   "nbconvert_exporter": "python",
   "pygments_lexer": "ipython2",
   "version": "2.7.11"
  }
 },
 "nbformat": 4,
 "nbformat_minor": 0
}
