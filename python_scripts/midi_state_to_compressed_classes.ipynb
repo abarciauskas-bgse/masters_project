{
 "cells": [
  {
   "cell_type": "code",
   "execution_count": 32,
   "metadata": {
    "collapsed": false
   },
   "outputs": [
    {
     "name": "stdout",
     "output_type": "stream",
     "text": [
      "2401\n"
     ]
    }
   ],
   "source": [
    "execfile('midi_to_state.py')\n",
    "daft_state = midiToNoteStateMatrix('daft_punk-one_more_time.mid')\n",
    "print len(daft_state)"
   ]
  },
  {
   "cell_type": "code",
   "execution_count": 37,
   "metadata": {
    "collapsed": false
   },
   "outputs": [],
   "source": [
    "import numpy as np\n",
    "# Takes midi states and compresses them to num_classes\n",
    "# Note: Returns more than one note per 16th note in sequence of notes when more than one note is being played\n",
    "# this is for visualization objectives where we need to represent multiple notes at once!\n",
    "def compress_and_expand_states(midi_states, num_classes):\n",
    "    cmp_exp_states = []\n",
    "    break_interval = round(len(midi_states[0])/num_classes)\n",
    "    for seq_idx, state in enumerate(midi_states):\n",
    "        notes = np.array([notes[0] for notes in state])\n",
    "        idcs = np.where(notes == 1)\n",
    "        for notei in idcs[0]:\n",
    "            cmp_exp_states.append({\"note\": int(np.floor(notei/break_interval)), \"seq_idx\": seq_idx})\n",
    "    return cmp_exp_states\n",
    "        \n",
    "res = compress_and_expand_states(daft_state[100:200], 11)\n",
    "possible_notes = [state['note'] for state in res]\n",
    "np.max(possible_notes)\n",
    "\n",
    "import json\n",
    "with open('/Users/aimeebarciauskas/Projects/neurons_app/daft_punk-one_more_time.json', 'w') as outfile:\n",
    "    json.dump(res, outfile)"
   ]
  },
  {
   "cell_type": "code",
   "execution_count": null,
   "metadata": {
    "collapsed": true
   },
   "outputs": [],
   "source": []
  }
 ],
 "metadata": {
  "kernelspec": {
   "display_name": "Python 2",
   "language": "python",
   "name": "python2"
  },
  "language_info": {
   "codemirror_mode": {
    "name": "ipython",
    "version": 2
   },
   "file_extension": ".py",
   "mimetype": "text/x-python",
   "name": "python",
   "nbconvert_exporter": "python",
   "pygments_lexer": "ipython2",
   "version": "2.7.10"
  }
 },
 "nbformat": 4,
 "nbformat_minor": 0
}
