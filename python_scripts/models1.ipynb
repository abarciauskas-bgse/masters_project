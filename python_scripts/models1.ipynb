{
 "cells": [
  {
   "cell_type": "code",
   "execution_count": 10,
   "metadata": {
    "collapsed": false
   },
   "outputs": [
    {
     "name": "stderr",
     "output_type": "stream",
     "text": [
      "Using Theano backend.\n",
      "Using gpu device 0: GRID K520 (CNMeM is disabled, cuDNN Version is too old. Update to v5, was 2000.)\n"
     ]
    },
    {
     "data": {
      "text/plain": [
       "2401"
      ]
     },
     "execution_count": 10,
     "metadata": {},
     "output_type": "execute_result"
    }
   ],
   "source": [
    "import numpy as np\n",
    "from keras.models import Sequential\n",
    "from keras.layers import Dense, Activation, Dropout\n",
    "from keras.layers import LSTM\n",
    "\n",
    "execfile('midi_to_state.py')\n",
    "daft_state = midiToNoteStateMatrix('daft_punk-one_more_time.mid')\n",
    "len(daft_state)"
   ]
  },
  {
   "cell_type": "code",
   "execution_count": 2,
   "metadata": {
    "collapsed": false
   },
   "outputs": [
    {
     "name": "stdout",
     "output_type": "stream",
     "text": [
      "381\n",
      "381\n"
     ]
    }
   ],
   "source": [
    "def encode_midi_states(state_mat):\n",
    "    chord_to_idx = {}\n",
    "    idx_to_chord = {}\n",
    "    for sixteenth_note in state_mat:\n",
    "        notes_only = [note[0] for note in sixteenth_note]\n",
    "        note_idcs_set = tuple([i for i, x in enumerate(notes_only) if x == 1])\n",
    "        if len(note_idcs_set) == 0: note_idcs_set = (None)\n",
    "        if not note_idcs_set in chord_to_idx.keys():\n",
    "            new_idx = len(chord_to_idx) + 1\n",
    "            chord_to_idx[note_idcs_set] = new_idx\n",
    "            idx_to_chord[new_idx] = note_idcs_set\n",
    "        else:\n",
    "            note_set_idx = chord_to_idx[note_idcs_set]\n",
    "    return [chord_to_idx, idx_to_chord]\n",
    "\n",
    "results = encode_midi_states(daft_state)\n",
    "print (len(results[0]))\n",
    "print (len(results[1]))\n",
    "chord_to_idx = results[0]\n",
    "idx_to_chord = results[1]"
   ]
  },
  {
   "cell_type": "code",
   "execution_count": 3,
   "metadata": {
    "collapsed": false
   },
   "outputs": [
    {
     "name": "stdout",
     "output_type": "stream",
     "text": [
      "249\n"
     ]
    }
   ],
   "source": [
    "import random\n",
    "randnum = random.sample(range(len(results[0])),1)[0]\n",
    "print randnum\n",
    "assert(results[0][results[1][randnum]] == randnum)"
   ]
  },
  {
   "cell_type": "code",
   "execution_count": 5,
   "metadata": {
    "collapsed": false
   },
   "outputs": [
    {
     "data": {
      "text/plain": [
       "2402"
      ]
     },
     "execution_count": 5,
     "metadata": {},
     "output_type": "execute_result"
    }
   ],
   "source": [
    "# now the set of chords is a library of possible classes\n",
    "# return a num_notes x len_chord_set\n",
    "def encode_song(midi_states, chord_to_idx):\n",
    "    song_encoded = np.zeros((len(midi_states)+1, len(chord_to_idx)+1))\n",
    "    for index in range(len(midi_states)):\n",
    "        notes_only = [note[0] for note in midi_states[index]]\n",
    "        note_idcs_set = tuple([i for i, x in enumerate(notes_only) if x == 1])\n",
    "        if len(note_idcs_set) == 0: note_idcs_set = (None)\n",
    "        library_idx = chord_to_idx[note_idcs_set]\n",
    "        song_encoded.itemset((index,library_idx), 1)\n",
    "    return song_encoded\n",
    "\n",
    "encoded_song = encode_song(daft_state, results[0])\n",
    "len(encoded_song)"
   ]
  },
  {
   "cell_type": "code",
   "execution_count": 6,
   "metadata": {
    "collapsed": false
   },
   "outputs": [
    {
     "name": "stdout",
     "output_type": "stream",
     "text": [
      "1393\n"
     ]
    }
   ],
   "source": [
    "randnum = random.sample(range(len(encoded_song)),1)[0]\n",
    "print randnum\n",
    "assert(sum(encoded_song[randnum]) == 1)"
   ]
  },
  {
   "cell_type": "code",
   "execution_count": 7,
   "metadata": {
    "collapsed": false
   },
   "outputs": [
    {
     "name": "stdout",
     "output_type": "stream",
     "text": [
      "(788, 40, 382)\n",
      "(788, 382)\n",
      "1.0\n"
     ]
    }
   ],
   "source": [
    "chord_to_idx = results[0]\n",
    "idx_to_chord = results[1]\n",
    "\n",
    "maxlen = 40\n",
    "step = 3\n",
    "chunks = []\n",
    "next_chords = []\n",
    "for i in range(0, len(encoded_song) - maxlen, step):\n",
    "    chunks.append(encoded_song[i: i + maxlen])\n",
    "    next_chords.append(encoded_song[i + maxlen])\n",
    "\n",
    "# len(chunks) should == len(daft_state)/step\n",
    "assert(len(chunks) == len(next_chords))\n",
    "\n",
    "X = np.array(chunks)\n",
    "y = np.array(next_chords)\n",
    "print(X.shape)\n",
    "print(y.shape)\n",
    "print(sum(y[0]))"
   ]
  },
  {
   "cell_type": "code",
   "execution_count": 14,
   "metadata": {
    "collapsed": false
   },
   "outputs": [
    {
     "name": "stdout",
     "output_type": "stream",
     "text": [
      "Build model...\n"
     ]
    }
   ],
   "source": [
    "# build the model: 2 stacked LSTM\n",
    "print('Build model...')\n",
    "model = Sequential()\n",
    "model.add(LSTM(512, return_sequences=True, input_shape=(maxlen, len(chord_to_idx)+1)))\n",
    "model.add(Dropout(0.2))\n",
    "model.add(LSTM(512, return_sequences=False))\n",
    "model.add(Dropout(0.2))\n",
    "model.add(Dense(len(chord_to_idx)+1))\n",
    "model.add(Activation('softmax'))\n",
    "\n",
    "model.compile(loss='categorical_crossentropy', optimizer='rmsprop', metrics=['accuracy'])"
   ]
  },
  {
   "cell_type": "code",
   "execution_count": 16,
   "metadata": {
    "collapsed": false
   },
   "outputs": [
    {
     "name": "stdout",
     "output_type": "stream",
     "text": [
      "Epoch 1/20\n",
      "788/788 [==============================] - 2s - loss: 3.4766 - acc: 0.1701     \n",
      "Epoch 2/20\n",
      "788/788 [==============================] - 2s - loss: 3.4101 - acc: 0.1827     \n",
      "Epoch 3/20\n",
      "788/788 [==============================] - 2s - loss: 3.3594 - acc: 0.1929     \n",
      "Epoch 4/20\n",
      "788/788 [==============================] - 2s - loss: 3.4466 - acc: 0.1802     \n",
      "Epoch 5/20\n",
      "788/788 [==============================] - 2s - loss: 3.3310 - acc: 0.1942     \n",
      "Epoch 6/20\n",
      "788/788 [==============================] - 2s - loss: 3.2562 - acc: 0.1904     \n",
      "Epoch 7/20\n",
      "788/788 [==============================] - 2s - loss: 3.2009 - acc: 0.2005     \n",
      "Epoch 8/20\n",
      "788/788 [==============================] - 2s - loss: 3.1808 - acc: 0.2145     \n",
      "Epoch 9/20\n",
      "788/788 [==============================] - 2s - loss: 3.1204 - acc: 0.2322     \n",
      "Epoch 10/20\n",
      "788/788 [==============================] - 2s - loss: 3.0794 - acc: 0.2030     \n",
      "Epoch 11/20\n",
      "788/788 [==============================] - 2s - loss: 3.0734 - acc: 0.2272     \n",
      "Epoch 12/20\n",
      "788/788 [==============================] - 2s - loss: 2.9928 - acc: 0.2360     \n",
      "Epoch 13/20\n",
      "788/788 [==============================] - 2s - loss: 2.8117 - acc: 0.2602     \n",
      "Epoch 14/20\n",
      "788/788 [==============================] - 2s - loss: 2.8664 - acc: 0.2310     \n",
      "Epoch 15/20\n",
      "788/788 [==============================] - 2s - loss: 2.8009 - acc: 0.2627     \n",
      "Epoch 16/20\n",
      "788/788 [==============================] - 2s - loss: 2.5844 - acc: 0.2931     \n",
      "Epoch 17/20\n",
      "788/788 [==============================] - 2s - loss: 2.7076 - acc: 0.2652     \n",
      "Epoch 18/20\n",
      "788/788 [==============================] - 2s - loss: 2.5353 - acc: 0.2843     \n",
      "Epoch 19/20\n",
      "788/788 [==============================] - 2s - loss: 2.6096 - acc: 0.2703     \n",
      "Epoch 20/20\n",
      "788/788 [==============================] - 2s - loss: 2.4424 - acc: 0.2970     \n",
      "{'acc': [0.17005076145914, 0.18274111682690944, 0.19289340131779006, 0.1802030456852792, 0.19416243669950417, 0.19035533010051942, 0.20050761451575963, 0.21446700477358049, 0.23223350284063271, 0.20304568535482823, 0.22715736040609136, 0.23604060913705585, 0.2601522843395998, 0.23096446730763778, 0.26269035540558966, 0.29314720812182743, 0.26522842647157951, 0.28426395923958214, 0.27030456852791879, 0.29695431472081218], 'loss': [3.4765944722945314, 3.4100694002838909, 3.3593540699953959, 3.4466104446933961, 3.3310259913429996, 3.2561848163604736, 3.2008874234814328, 3.1808007041814967, 3.1203755218970595, 3.0794376189333534, 3.0734475494036215, 2.9927986370125397, 2.8116861212677158, 2.8663560484871646, 2.8009364096646383, 2.5843732732201592, 2.7076322596690376, 2.5352689651063249, 2.6096446417309913, 2.4423964919172567]}\n"
     ]
    }
   ],
   "source": [
    "hist = model.fit(X, y, batch_size=128, nb_epoch=20)\n",
    "print hist.history"
   ]
  },
  {
   "cell_type": "code",
   "execution_count": 12,
   "metadata": {
    "collapsed": false
   },
   "outputs": [
    {
     "name": "stdout",
     "output_type": "stream",
     "text": [
      "Build model...\n"
     ]
    }
   ],
   "source": [
    "# build the model: 2 stacked LSTM\n",
    "print('Build model...')\n",
    "model = Sequential()\n",
    "model.add(LSTM(512, return_sequences=True, input_shape=(maxlen, len(chord_to_idx)+1)))\n",
    "model.add(Dropout(0.2))\n",
    "model.add(LSTM(512, return_sequences=True))\n",
    "model.add(Dropout(0.2))\n",
    "model.add(LSTM(512, return_sequences=False))\n",
    "model.add(Dropout(0.2))\n",
    "model.add(Dense(len(chord_to_idx)+1))\n",
    "model.add(Activation('softmax'))\n",
    "\n",
    "model.compile(loss='categorical_crossentropy', optimizer='rmsprop', metrics=['accuracy'])"
   ]
  },
  {
   "cell_type": "code",
   "execution_count": 13,
   "metadata": {
    "collapsed": false
   },
   "outputs": [
    {
     "name": "stdout",
     "output_type": "stream",
     "text": [
      "Epoch 1/20\n",
      "788/788 [==============================] - 3s - loss: 5.5798 - acc: 0.0495     \n",
      "Epoch 2/20\n",
      "788/788 [==============================] - 3s - loss: 5.0820 - acc: 0.0457     \n",
      "Epoch 3/20\n",
      "788/788 [==============================] - 3s - loss: 4.8778 - acc: 0.0660     \n",
      "Epoch 4/20\n",
      "788/788 [==============================] - 3s - loss: 4.8023 - acc: 0.0571     \n",
      "Epoch 5/20\n",
      "788/788 [==============================] - 3s - loss: 4.7255 - acc: 0.0635     \n",
      "Epoch 6/20\n",
      "788/788 [==============================] - 3s - loss: 4.7584 - acc: 0.0393     \n",
      "Epoch 7/20\n",
      "788/788 [==============================] - 3s - loss: 4.6553 - acc: 0.0635     \n",
      "Epoch 8/20\n",
      "788/788 [==============================] - 3s - loss: 4.6480 - acc: 0.0673     \n",
      "Epoch 9/20\n",
      "788/788 [==============================] - 3s - loss: 4.6178 - acc: 0.0647     \n",
      "Epoch 10/20\n",
      "788/788 [==============================] - 3s - loss: 4.6676 - acc: 0.0470     \n",
      "Epoch 11/20\n",
      "788/788 [==============================] - 3s - loss: 4.6109 - acc: 0.0736     \n",
      "Epoch 12/20\n",
      "788/788 [==============================] - 3s - loss: 4.6721 - acc: 0.0635     \n",
      "Epoch 13/20\n",
      "788/788 [==============================] - 3s - loss: 4.6046 - acc: 0.0761     \n",
      "Epoch 14/20\n",
      "788/788 [==============================] - 3s - loss: 4.5427 - acc: 0.0838     \n",
      "Epoch 15/20\n",
      "788/788 [==============================] - 3s - loss: 4.5305 - acc: 0.0901     \n",
      "Epoch 16/20\n",
      "788/788 [==============================] - 3s - loss: 4.4876 - acc: 0.0964     \n",
      "Epoch 17/20\n",
      "788/788 [==============================] - 3s - loss: 4.3862 - acc: 0.1091     \n",
      "Epoch 18/20\n",
      "788/788 [==============================] - 3s - loss: 4.4006 - acc: 0.0939     \n",
      "Epoch 19/20\n",
      "788/788 [==============================] - 3s - loss: 4.2947 - acc: 0.1155     \n",
      "Epoch 20/20\n",
      "788/788 [==============================] - 3s - loss: 4.2677 - acc: 0.0964     \n"
     ]
    },
    {
     "data": {
      "text/plain": [
       "<keras.callbacks.History at 0x7f86934d3dd0>"
      ]
     },
     "execution_count": 13,
     "metadata": {},
     "output_type": "execute_result"
    }
   ],
   "source": [
    "model.fit(X, y, batch_size=128, nb_epoch=20)"
   ]
  },
  {
   "cell_type": "code",
   "execution_count": 37,
   "metadata": {
    "collapsed": false
   },
   "outputs": [
    {
     "name": "stdout",
     "output_type": "stream",
     "text": [
      "Build model...\n",
      "Build model...\n",
      "Build model...\n",
      "Build model...\n",
      "Build model...\n",
      "Build model...\n"
     ]
    }
   ],
   "source": [
    "hidden_sizes = [10,100,200,300,500,1000]\n",
    "epochs = 100\n",
    "results = {}\n",
    "for size in hidden_sizes:\n",
    "    print('Build model...')\n",
    "    model = Sequential()\n",
    "    model.add(LSTM(size, return_sequences=True, input_shape=(maxlen, len(chord_to_idx)+1)))\n",
    "    model.add(Dropout(0.2))\n",
    "    model.add(LSTM(size, return_sequences=False))\n",
    "    model.add(Dropout(0.2))\n",
    "    model.add(Dense(len(chord_to_idx)+1))\n",
    "    model.add(Activation('softmax'))\n",
    "    model.compile(loss='categorical_crossentropy', optimizer='rmsprop', metrics=['accuracy'])\n",
    "    hist = model.fit(X, y, batch_size=128, nb_epoch=epochs, verbose=0)\n",
    "    results[size] = hist\n"
   ]
  },
  {
   "cell_type": "code",
   "execution_count": 38,
   "metadata": {
    "collapsed": false
   },
   "outputs": [
    {
     "data": {
      "image/png": "[encoded data removed]",
      "text/plain": [
       "<matplotlib.figure.Figure at 0x7f862f565910>"
      ]
     },
     "metadata": {},
     "output_type": "display_data"
    }
   ],
   "source": [
    "%matplotlib inline\n",
    "\n",
    "import matplotlib\n",
    "import numpy as np\n",
    "import matplotlib.pyplot as plt\n",
    "import matplotlib.cm as cm\n",
    "import matplotlib.colors as colors\n",
    "\n",
    "xran = xrange(0,epochs)\n",
    "norm = colors.Normalize(min(hidden_sizes), max(hidden_sizes))\n",
    "\n",
    "for size in hidden_sizes:\n",
    "    color = cm.jet(norm(size))\n",
    "    plt.plot(xran, results[size].history['acc'], 'b-', label=str(size), color = color)\n",
    "\n",
    "legend = plt.legend(loc='upper left', shadow=True)    \n",
    "plt.show()"
   ]
  },
  {
   "cell_type": "code",
   "execution_count": 45,
   "metadata": {
    "collapsed": false
   },
   "outputs": [
    {
     "name": "stdout",
     "output_type": "stream",
     "text": [
      "(40, 382)\n"
     ]
    }
   ],
   "source": [
    "import sys\n",
    "def sample(a, temperature=1.0):\n",
    "    # helper function to sample an index from a probability array\n",
    "    a = np.log(a) / temperature\n",
    "    a = np.exp(a) / np.sum(np.exp(a))\n",
    "    return np.argmax(np.random.multinomial(1, a, 1))\n",
    "\n",
    "start_index = random.randint(0, len(encoded_song) - maxlen - 1)\n",
    "generated = []\n",
    "song_chunk = encoded_song[start_index: start_index + maxlen]\n",
    "generated.append(song_chunk)\n",
    "print(song_chunk.shape)"
   ]
  },
  {
   "cell_type": "code",
   "execution_count": 60,
   "metadata": {
    "collapsed": false
   },
   "outputs": [
    {
     "data": {
      "text/plain": [
       "235"
      ]
     },
     "execution_count": 60,
     "metadata": {},
     "output_type": "execute_result"
    }
   ],
   "source": [
    "x = np.zeros((1, maxlen, len(chord_to_idx)+1))\n",
    "for t, char in enumerate(song_chunk):\n",
    "    ind = list(char).index(1)\n",
    "    x[0, t, ind] = 1.\n",
    "preds = model.predict(x, verbose=0)[0]\n",
    "diversity = 0.5\n",
    "next_index = sample(preds, diversity)"
   ]
  },
  {
   "cell_type": "code",
   "execution_count": null,
   "metadata": {
    "collapsed": true
   },
   "outputs": [],
   "source": [
    "for i in range(400):\n",
    "    x = np.zeros((1, maxlen, len(chord_to_idx)))\n",
    "    for t, char in enumerate(song_chunk):\n",
    "        ind = list(char).index(1)\n",
    "        x[0, t, ind] = 1.\n",
    "\n",
    "    preds = model.predict(x, verbose=0)[0]\n",
    "    next_index = sample(preds, diversity)\n",
    "    next_char = indices_char[next_index]\n",
    "\n",
    "    generated += next_char\n",
    "    sentence = sentence[1:] + next_char\n",
    "\n",
    "    sys.stdout.write(next_char)\n",
    "    sys.stdout.flush()\n",
    "print()"
   ]
  },
  {
   "cell_type": "code",
   "execution_count": null,
   "metadata": {
    "collapsed": true
   },
   "outputs": [],
   "source": [
    "def generated_sequence_to_midi_state(one_hot_chords):\n",
    "    # takes a matrix of vectors, and uses idx_to_chords to get the chords set\n",
    "    midi_states = []\n",
    "    # find index of 1 in each one_hot_chord    \n",
    "    for one_hot in one_hot_chords:\n",
    "        note_state = np.zeros((len(daft_state[0]), 2))\n",
    "        chord_set_idx = one_hot.index(1)\n",
    "        notes_in_chord = idx_to_chords[chord_set_idx]\n",
    "        for note in notes_in_chord:\n",
    "            note_state.itemsset((note, 0), 1)\n",
    "        midi_states.append(note_state)\n",
    "    return midi_states\n"
   ]
  }
 ],
 "metadata": {
  "kernelspec": {
   "display_name": "Python 2",
   "language": "python",
   "name": "python2"
  },
  "language_info": {
   "codemirror_mode": {
    "name": "ipython",
    "version": 2
   },
   "file_extension": ".py",
   "mimetype": "text/x-python",
   "name": "python",
   "nbconvert_exporter": "python",
   "pygments_lexer": "ipython2",
   "version": "2.7.6"
  }
 },
 "nbformat": 4,
 "nbformat_minor": 0
}
